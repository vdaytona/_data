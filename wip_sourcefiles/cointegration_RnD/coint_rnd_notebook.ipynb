{
 "cells": [
  {
   "cell_type": "code",
   "execution_count": 1,
   "metadata": {
    "collapsed": true
   },
   "outputs": [],
   "source": [
    "import pandas as pd\n",
    "import numpy as np\n",
    "import matplotlib.pyplot as plt\n",
    "%matplotlib inline"
   ]
  },
  {
   "cell_type": "code",
   "execution_count": null,
   "metadata": {
    "collapsed": false
   },
   "outputs": [],
   "source": [
    "# Extract columns from dataframe\n",
    "df_cur1 = pd.read_csv('20170601_EU.csv')\n",
    "cur1_col1 = df_cur1.iloc[:, 0:1].values\n",
    "#cur1_col2 = df_cur1.iloc[1]\n",
    "\n",
    "df_cur2 = pd.read_csv('20170601_EC.csv')\n",
    "cur2_col1 = df_cur2.iloc[:, 0:1].values\n",
    "#cur2_col2 = df_cur2.iloc[1]"
   ]
  },
  {
   "cell_type": "code",
   "execution_count": null,
   "metadata": {
    "collapsed": false
   },
   "outputs": [],
   "source": [
    "# Sample size parameter\n",
    "samplesize = 5000\n",
    "\n",
    "other_ratio, this_ratio, cur1_localmax, cur2_localmax, cur1_localmin, cur2_localmin = ([] for i in range(6))\n",
    "\n",
    "for i in range(samplesize, len(cur1_col1)-1):\n",
    "    # Get localmaxes and localmins respectively from extracted datasets\n",
    "    cur1_localmax.insert(i-samplesize, float(max(cur1_col1[i-samplesize:i-1])))\n",
    "    cur2_localmax.insert(i-samplesize, float(max(cur2_col1[i-samplesize:i-1])))\n",
    "    cur1_localmin.insert(i-samplesize, float(min(cur1_col1[i-samplesize:i-1])))\n",
    "    cur2_localmin.insert(i-samplesize, float(min(cur2_col1[i-samplesize:i-1])))\n",
    "    \n",
    "    # Array boundary precausions\n",
    "    if i > 0:\n",
    "        # Calculate ratios\n",
    "        o_r = (cur2_col1[i] - cur2_localmin[i-samplesize-1])/(cur2_localmax[i-samplesize-1] - cur2_localmin[i-samplesize-1])\n",
    "        t_r = (cur1_col1[i] - cur1_localmin[i-samplesize-1])/(cur1_localmax[i-samplesize-1] - cur1_localmin[i-samplesize-1])\n",
    "        # Prevent o_r !E {[0,1]}\n",
    "        if o_r > 1:\n",
    "            other_ratio.insert(i-samplesize, 1)\n",
    "        elif o_r < 0:\n",
    "            other_ratio.insert(i-samplesize, 0)\n",
    "        else:\n",
    "            other_ratio.insert(i-samplesize, o_r)\n",
    "            \n",
    "        if t_r > 1:\n",
    "            this_ratio.insert(i-samplesize, 1)\n",
    "        elif t_r < 0:\n",
    "            this_ratio.insert(i-samplesize, 0)\n",
    "        else:\n",
    "            this_ratio.insert(i-samplesize, t_r)"
   ]
  },
  {
   "cell_type": "code",
   "execution_count": null,
   "metadata": {
    "collapsed": false,
    "scrolled": false
   },
   "outputs": [],
   "source": [
    "# Preparing to plot on multiple y-axes\n",
    "fig = plt.figure(figsize=(150, 15))\n",
    "ax1 = fig.add_subplot(111)\n",
    "\n",
    "ax1.plot(other_ratio, '#cdcdcd')\n",
    "ax1.plot([1]*len(other_ratio), '#cdcdcd', linewidth=1.0)\n",
    "ax1.plot([0]*len(other_ratio), '#cdcdcd', linewidth=1.0)\n",
    "ax1.set_ylabel('ratio')\n",
    "ax1.locator_params(nbins=30)\n",
    "\n",
    "# Add subplot with different axis range\n",
    "ax2 = ax1.twinx()\n",
    "ax2.plot(cur2_localmax, 'r', linewidth=1.0)\n",
    "ax2.plot(cur2_localmin, 'r', linewidth=1.0)\n",
    "ax2.plot(cur2_col1[samplesize:len(other_ratio)+samplesize], 'r', linewidth=1.0)\n",
    "ax2.locator_params(nbins=30)\n",
    "ax2.set_ylabel('price', color='r')\n",
    "for tl in ax2.get_yticklabels():\n",
    "    tl.set_color('r')\n",
    "\n",
    "plt.title('EURCAD period=' + str(samplesize))\n",
    "plt.xlabel('(ticks)')\n",
    "#plt.show()\n",
    "plt.savefig('EURCAD_coint.pdf')"
   ]
  },
  {
   "cell_type": "code",
   "execution_count": null,
   "metadata": {
    "collapsed": false
   },
   "outputs": [],
   "source": [
    "fig2 = plt.figure(figsize=(150, 15))\n",
    "ax2_1 = fig2.add_subplot(111)\n",
    "ax2_2 = fig2.add_subplot(111)\n",
    "\n",
    "# Calculate ratio delta array\n",
    "delta = [other_ratio[i] - this_ratio[i] for i in range(len(other_ratio))]\n",
    "\n",
    "# Plot delta with thresholds\n",
    "ax2_2.plot(delta, 'g')\n",
    "ax2_2.plot([0.2]*len(other_ratio), 'g--')\n",
    "ax2_2.plot([0]*len(other_ratio), 'g--')\n",
    "ax2_2.plot([-0.2]*len(other_ratio), 'g--')\n",
    "\n",
    "for tl in ax2_1.get_yticklabels():\n",
    "    tl.set_color('g')\n",
    "'''\n",
    "ax2_1.plot(this_ratio, 'r')\n",
    "ax2_1.plot(other_ratio, 'b')\n",
    "'''\n",
    "ax2_1.twinx().plot(cur2_col1[samplesize:len(other_ratio)+samplesize], '#cdcdcd', linewidth=1.0)\n",
    "ax2_1.twinx().plot(cur1_col1[samplesize:len(other_ratio)+samplesize], '#adadad', linewidth=1.0)\n",
    "ax2_1.locator_params(nbins=30)\n",
    "plt.title('EU | EC Ratios Delta')\n",
    "plt.savefig('ratios_coint.pdf')\n",
    "#plt.show()"
   ]
  },
  {
   "cell_type": "code",
   "execution_count": null,
   "metadata": {
    "collapsed": false
   },
   "outputs": [],
   "source": [
    "# Simple backtesting engine\n",
    "opened = False\n",
    "open_rates = [0]*2\n",
    "\n",
    "# > Initialize more accurately\n",
    "net_pips = [0]*len(this_ratio)\n",
    "np = 1\n",
    "\n",
    "# Target/Stop parameters\n",
    "# > compute as fraction of volatility\n",
    "target = 0.001\n",
    "stop = 0.001\n",
    "\n",
    "for x in range(len(other_ratio)):\n",
    "    if opened == False:\n",
    "        if delta[x] >= 0.2:\n",
    "            opened = True\n",
    "            tradetype = 1\n",
    "            open_rates[0] = cur1_col1[samplesize+x-1]\n",
    "            open_rates[1] = cur2_col1[samplesize+x-1]\n",
    "\n",
    "            #open_rates = getOpenRates[cur1_col1[samplesize+x], cur2_col1[samplesize+x]]\n",
    "\n",
    "        elif delta[x] <= -0.2:\n",
    "            opened = True\n",
    "            tradetype = 0\n",
    "            open_rates[0] = cur1_col1[samplesize+x-1]\n",
    "            open_rates[1] = cur2_col1[samplesize+x-1]\n",
    "    \n",
    "    # if opened\n",
    "    else: \n",
    "        if tradetype == 1:\n",
    "            # Winners\n",
    "            if cur1_col1[samplesize+x] <= open_rates[0] - target or cur2_col1[samplesize+x] >= open_rates[0] + target:\n",
    "                # > Adjust pips by EC/EU worth\n",
    "                net_pips[np] = net_pips[np-1] + target*10000\n",
    "                np += 1\n",
    "            # Losers\n",
    "            # > Verify logic\n",
    "            elif cur1_col1[samplesize+x] <= open_rates[0] + stop or cur2_col1[samplesize+x] <= open_rates[0] - stop:\n",
    "                # > Adjust pips by EC/EU worth\n",
    "                net_pips[np] = net_pips[np-1] - stop*10000\n",
    "                np += 1\n",
    "            opened = False\n",
    "        else:\n",
    "            # Winners\n",
    "            if cur1_col1[samplesize+x] >= open_rates[0] + target or cur2_col1[samplesize+x] <= open_rates[0] - target:\n",
    "                # > Adjust pips by EC/EU worth\n",
    "                net_pips[np] = net_pips[np-1] + target*10000\n",
    "                np += 1\n",
    "            # Losers\n",
    "            # > Verify logic\n",
    "            elif cur1_col1[samplesize+x] >= open_rates[0] - stop or cur2_col1[samplesize+x] >= open_rates[0] + stop:\n",
    "                # > Adjust pips by EC/EU worth\n",
    "                net_pips[np] = net_pips[np-1] + stop*10000\n",
    "                np += 1\n",
    "            opened = False\n",
    "       \n",
    "\n",
    "# Store rates in array\n",
    "def getOpenRates(rate1, rate2):\n",
    "    open_rates = []\n",
    "    open_rates[0] = rate1\n",
    "    open_rates[1] = rate2\n",
    "    return open_rates"
   ]
  },
  {
   "cell_type": "code",
   "execution_count": null,
   "metadata": {
    "collapsed": false
   },
   "outputs": [],
   "source": [
    "'''\n",
    "for x in range(len(net_pips)):\n",
    "    if net_pips[x] == 0:\n",
    "        del net_pips[x]\n",
    "'''\n",
    "plt.plot(net_pips)\n",
    "plt.show()"
   ]
  },
  {
   "cell_type": "code",
   "execution_count": null,
   "metadata": {
    "collapsed": true
   },
   "outputs": [],
   "source": []
  }
 ],
 "metadata": {
  "anaconda-cloud": {},
  "kernelspec": {
   "display_name": "Python [Root]",
   "language": "python",
   "name": "Python [Root]"
  },
  "language_info": {
   "codemirror_mode": {
    "name": "ipython",
    "version": 3
   },
   "file_extension": ".py",
   "mimetype": "text/x-python",
   "name": "python",
   "nbconvert_exporter": "python",
   "pygments_lexer": "ipython3",
   "version": "3.5.2"
  }
 },
 "nbformat": 4,
 "nbformat_minor": 0
}
