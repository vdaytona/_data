{
 "cells": [
  {
   "cell_type": "code",
   "execution_count": 1,
   "metadata": {
    "collapsed": true
   },
   "outputs": [],
   "source": [
    "import pandas as pd\n",
    "import numpy as np\n",
    "import matplotlib.pyplot as plt\n",
    "import matplotlib.patches as mpatches\n",
    "%matplotlib inline"
   ]
  },
  {
   "cell_type": "code",
   "execution_count": null,
   "metadata": {
    "collapsed": false
   },
   "outputs": [],
   "source": [
    "# Extract wanted columns from dataframe\n",
    "df_cur1 = pd.read_csv('20170601_EU.csv')\n",
    "cur1_col1 = df_cur1.iloc[:, 0:1].values\n",
    "#cur1_col2 = df_cur1.iloc[1]\n",
    "\n",
    "df_cur2 = pd.read_csv('20170601_EC.csv')\n",
    "cur2_col1 = df_cur2.iloc[:, 0:1].values\n",
    "#cur2_col2 = df_cur2.iloc[1]"
   ]
  },
  {
   "cell_type": "code",
   "execution_count": null,
   "metadata": {
    "collapsed": false
   },
   "outputs": [],
   "source": [
    "# Sample size parameter\n",
    "samplesize = 2000\n",
    "\n",
    "other_ratio, this_ratio, cur1_localmax, cur2_localmax, cur1_localmin, cur2_localmin = ([] for i in range(6))\n",
    "\n",
    "for i in range(samplesize, len(cur1_col1)-1):\n",
    "    #cur1_localmax.insert(i-samplesize, float(max(cur1_col1[i-samplesize:i-1])))\n",
    "    cur2_localmax.insert(i-samplesize, float(max(cur2_col1[i-samplesize:i-1])))\n",
    "    #cur1_localmin.insert(i-samplesize, float(min(cur1_col1[i-samplesize:i-1])))\n",
    "    cur2_localmin.insert(i-samplesize, float(min(cur2_col1[i-samplesize:i-1])))\n",
    "    \n",
    "    # Array boundary precausions\n",
    "    if i > 0:\n",
    "        o_r = (cur2_col1[i] - cur2_localmin[i-samplesize-1])/(cur2_localmax[i-samplesize-1] - cur2_localmin[i-samplesize-1])\n",
    "        # Prevent o_r != {[0,1]}\n",
    "        if o_r > 1:\n",
    "            other_ratio.insert(i-samplesize, 1)\n",
    "        elif o_r < 0:\n",
    "            other_ratio.insert(i-samplesize, 0)\n",
    "        else:\n",
    "            other_ratio.insert(i-samplesize, o_r)"
   ]
  },
  {
   "cell_type": "code",
   "execution_count": null,
   "metadata": {
    "collapsed": false,
    "scrolled": false
   },
   "outputs": [],
   "source": [
    "# Preparing to plot on multiple y-axes\n",
    "x = range(len(other_ratio))\n",
    "fig = plt.figure(figsize=(150, 15))\n",
    "ax1 = fig.add_subplot(111)\n",
    "\n",
    "# Secondary data\n",
    "ax1.plot(other_ratio, '#cdcdcd')\n",
    "ax1.plot([1]*len(other_ratio), '#cdcdcd', linewidth=1.0)\n",
    "ax1.plot([0]*len(other_ratio), '#cdcdcd', linewidth=1.0)\n",
    "ax1.set_ylabel('ratio')\n",
    "ax1.locator_params(nbins=30)\n",
    "\n",
    "ax2 = ax1.twinx()\n",
    "ax2.plot(cur2_localmax, 'r', linewidth=1.0)\n",
    "ax2.plot(cur2_localmin, 'r', linewidth=1.0)\n",
    "ax2.plot(cur2_col1[samplesize:len(other_ratio)+samplesize], 'r', linewidth=1.0)\n",
    "ax2.locator_params(nbins=30)\n",
    "ax2.set_ylabel('price', color='r')\n",
    "for tl in ax2.get_yticklabels():\n",
    "    tl.set_color('r')\n",
    "\n",
    "plt.title('EURCAD period=' + str(samplesize))\n",
    "plt.xlabel('(ticks)')\n",
    "#plt.show()\n",
    "plt.savefig('EURCAD_coint.pdf')"
   ]
  }
 ],
 "metadata": {
  "anaconda-cloud": {},
  "kernelspec": {
   "display_name": "Python [Root]",
   "language": "python",
   "name": "Python [Root]"
  },
  "language_info": {
   "codemirror_mode": {
    "name": "ipython",
    "version": 3
   },
   "file_extension": ".py",
   "mimetype": "text/x-python",
   "name": "python",
   "nbconvert_exporter": "python",
   "pygments_lexer": "ipython3",
   "version": "3.5.2"
  }
 },
 "nbformat": 4,
 "nbformat_minor": 0
}
