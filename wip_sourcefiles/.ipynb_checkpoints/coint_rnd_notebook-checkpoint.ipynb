{
 "cells": [
  {
   "cell_type": "code",
   "execution_count": null,
   "metadata": {
    "collapsed": true
   },
   "outputs": [],
   "source": [
    "import pandas as pd\n",
    "import matplotlib as plt"
   ]
  },
  {
   "cell_type": "code",
   "execution_count": null,
   "metadata": {
    "collapsed": false
   },
   "outputs": [],
   "source": [
    "df_cur1 = pd.read_csv('aaa.csv')\n",
    "cur1_col1 = df_cur1.iloc[0]\n",
    "cur1_col2 = df_cur1.iloc[1]\n",
    "\n",
    "df_cur2 = pd.read_csv('bbb.csv')\n",
    "cur2_col1 = df_cur2.iloc[0]\n",
    "cur2_col2 = df_cur2.iloc[1]\n",
    "\n",
    "delta_col = abs(cur1_col1 - cur2_col1)\n"
   ]
  },
  {
   "cell_type": "code",
   "execution_count": null,
   "metadata": {
    "collapsed": true
   },
   "outputs": [],
   "source": [
    "other_ratio = []\n",
    "this_ratio = []\n",
    "\n",
    "for i in range(len(cur1_col1)):\n",
    "    cur1_localmax = max(cur1_col1[i:i+samplesize+1])\n",
    "    cur2_localmax = max(cur2_col1[i:i+samplesize+1])\n",
    "    cur1_localmin = min(cur1_col1[i:i+samplesize+1])\n",
    "    cur2_localmin = min(cur2_col1[i:i+samplesize+1])\n",
    "\n",
    "    other_ratio[i] = (cur2_col1[i+samplesize] - cur2_localmin)/(cur2_localmax - cur2_localmin)\n",
    "    this_ratio[i] = (cur1_col1[i+samplesize] - cur1_localmin)/(cur1_localmax - cur1_localmin) - other_ratio\n",
    "\n"
   ]
  }
 ],
 "metadata": {
  "anaconda-cloud": {},
  "kernelspec": {
   "display_name": "Python [Root]",
   "language": "python",
   "name": "Python [Root]"
  },
  "language_info": {
   "codemirror_mode": {
    "name": "ipython",
    "version": 3
   },
   "file_extension": ".py",
   "mimetype": "text/x-python",
   "name": "python",
   "nbconvert_exporter": "python",
   "pygments_lexer": "ipython3",
   "version": "3.5.2"
  }
 },
 "nbformat": 4,
 "nbformat_minor": 0
}
