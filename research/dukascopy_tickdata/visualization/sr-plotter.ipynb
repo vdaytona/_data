{
 "cells": [
  {
   "cell_type": "markdown",
   "metadata": {},
   "source": [
    "\n",
    "### Determining support & resistance levels using mean shift clustering  \n",
    "The following notebook shows some of this repos functionality,  \n",
    "including getting and storing tickdata for all tickers available on Dukascopy\n",
    "A clustering algorithm determines S/R-levels, sorts them, filters them, and plots them."
   ]
  },
  {
   "cell_type": "code",
   "execution_count": 10,
   "metadata": {
    "collapsed": false
   },
   "outputs": [],
   "source": [
    "%matplotlib inline\n",
    "import numpy as np\n",
    "import matplotlib.pyplot as plt\n",
    "from getdayrates import getDayRates\n",
    "from ordercompute import orderCompute"
   ]
  },
  {
   "cell_type": "code",
   "execution_count": 2,
   "metadata": {
    "collapsed": false
   },
   "outputs": [
    {
     "name": "stdout",
     "output_type": "stream",
     "text": [
      "-------------------------\n",
      "\tS/R-levels\n",
      "-------------------------\n",
      "1.0596\n",
      "1.0571\n",
      "1.0525\n",
      "1.0536\n",
      "1.0584\n",
      "1.0549\n",
      "1.0608\n",
      "1.0615\n",
      "\n",
      "S/R-levels saved at ml_strat/clustering_return/ml_results_EURUSD_2017_03_09_0.1_2000.csv\n",
      "\n"
     ]
    }
   ],
   "source": [
    "    class to_self():\n",
    "        pass\n",
    "    ts = to_self()\n",
    "    #ts.time = datetime.time\n",
    "    ts.bid = 1.1060\n",
    "    ts.lp = 1.1083\n",
    "    ts.ltp = 1.1059\n",
    "    ts.symbol = 'EURUSD'\n",
    "    ts.quantile = 0.1\n",
    "    ts.n_samples = 2000\n",
    "    ts.date = '2017-03-10'\n",
    "    \n",
    "    sr_levels = orderCompute(ts).newSR()"
   ]
  },
  {
   "cell_type": "code",
   "execution_count": 29,
   "metadata": {
    "collapsed": false
   },
   "outputs": [],
   "source": [
    "datesplit = ts.date.split('-')\n",
    "prior_date = '{}-{}-{}'.format(datesplit[0], datesplit[1], str(int(datesplit[2])-1).zfill(2))\n",
    "input_train_ = getDayRates.getDayRates(ts.symbol, prior_date)\n",
    "rate_data = getDayRates.importRates(input_train_)\n",
    "\n",
    "for i in range(len(sr_levels)):\n",
    "    plt.plot((0, len(rate_data)), (sr_levels[i], sr_levels[i]), 'r--')\n",
    "\n",
    "plt.plot(rate_data, '#434343')\n",
    "\n",
    "plt.ylabel('EURUSD')\n",
    "plt.xlabel(prior_date + ' (ticks)')\n",
    "plt.show()\n"
   ]
  }
 ],
 "metadata": {
  "anaconda-cloud": {},
  "kernelspec": {
   "display_name": "Python [Root]",
   "language": "python",
   "name": "Python [Root]"
  },
  "language_info": {
   "codemirror_mode": {
    "name": "ipython",
    "version": 3
   },
   "file_extension": ".py",
   "mimetype": "text/x-python",
   "name": "python",
   "nbconvert_exporter": "python",
   "pygments_lexer": "ipython3",
   "version": "3.5.2"
  }
 },
 "nbformat": 4,
 "nbformat_minor": 0
}
